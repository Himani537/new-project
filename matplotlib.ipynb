{
  "cells": [
    {
      "cell_type": "markdown",
      "metadata": {
        "id": "TpLwucfGnv1T"
      },
      "source": [
        "we import a random variable and mataplotlib library for bar chart."
      ]
    },
    {
      "cell_type": "code",
      "execution_count": 1,
      "metadata": {
        "id": "87SbvPbYg9yl"
      },
      "outputs": [],
      "source": [
        "import random\n",
        "import matplotlib.pyplot as plt"
      ]
    },
    {
      "cell_type": "markdown",
      "source": [
        "Create a \"mapping_dict\" dictionary and using zip() function, it is used to pair elements from ranges together.dict() converts these pairs into key-value pairs."
      ],
      "metadata": {
        "id": "iIe4wv20Su_F"
      }
    },
    {
      "cell_type": "markdown",
      "source": [
        "Generate a range of numbers in size (0,10)."
      ],
      "metadata": {
        "id": "U-vIRlf-WXG1"
      }
    },
    {
      "cell_type": "code",
      "execution_count": null,
      "metadata": {
        "id": "5UJSyzOBic8t"
      },
      "outputs": [],
      "source": [
        "mapping_dict = dict(zip(range(0,10),range(0,10)))"
      ]
    },
    {
      "cell_type": "markdown",
      "source": [
        "we will print created dictionary."
      ],
      "metadata": {
        "id": "I5Lf0qKuUupr"
      }
    },
    {
      "cell_type": "code",
      "execution_count": null,
      "metadata": {
        "colab": {
          "base_uri": "https://localhost:8080/"
        },
        "id": "catS5zB9ieDy",
        "outputId": "a862d706-416b-424a-9b92-f355a54853a5"
      },
      "outputs": [
        {
          "output_type": "execute_result",
          "data": {
            "text/plain": [
              "{0: 0, 1: 1, 2: 2, 3: 3, 4: 4, 5: 5, 6: 6, 7: 7, 8: 8, 9: 9}"
            ]
          },
          "metadata": {},
          "execution_count": 4
        }
      ],
      "source": [
        "mapping_dict"
      ]
    },
    {
      "cell_type": "markdown",
      "source": [
        "Now this is used to iterate through the keys of the mapping_dict dictionary. For each key (k), it converts the corresponding value to a string using str() The code then updates the value in the mapping_dict dictionary with its string representation."
      ],
      "metadata": {
        "id": "G8Aa5gl2VTEL"
      }
    },
    {
      "cell_type": "code",
      "execution_count": null,
      "metadata": {
        "id": "JBZDV2KFinVu"
      },
      "outputs": [],
      "source": [
        "for k in mapping_dict.keys():\n",
        "\n",
        "  mapping_dict[k] = str(mapping_dict[k])"
      ]
    },
    {
      "cell_type": "markdown",
      "source": [
        "Now, each key value pair in the dictionary has the key as an integer and the corresponding value as the string."
      ],
      "metadata": {
        "id": "wgOcOWr5WsF5"
      }
    },
    {
      "cell_type": "code",
      "execution_count": null,
      "metadata": {
        "colab": {
          "base_uri": "https://localhost:8080/"
        },
        "id": "Fg1mHKxpiuYa",
        "outputId": "69c9f1b7-e735-41de-b375-808122dcdfae"
      },
      "outputs": [
        {
          "output_type": "execute_result",
          "data": {
            "text/plain": [
              "{0: '0',\n",
              " 1: '1',\n",
              " 2: '2',\n",
              " 3: '3',\n",
              " 4: '4',\n",
              " 5: '5',\n",
              " 6: '6',\n",
              " 7: '7',\n",
              " 8: '8',\n",
              " 9: '9'}"
            ]
          },
          "metadata": {},
          "execution_count": 6
        }
      ],
      "source": [
        "mapping_dict"
      ]
    },
    {
      "cell_type": "markdown",
      "source": [
        "Now, adds aaditional key-value pairs to the mapping_dict dictionary. Iterating through a range of 0 to 26, it generates a new key (10 + i) for each iteration and pairs it with a value found by chr(65 + i), char() function  used to converts an ASCII value to its corresponding character For each repetition, chr(65 + i) produces capital letters beginning with 'A' and going progressively up to 'Z'"
      ],
      "metadata": {
        "id": "Ebpc2PaDV1oM"
      }
    },
    {
      "cell_type": "code",
      "execution_count": null,
      "metadata": {
        "id": "G0Y-fHWZi2xq"
      },
      "outputs": [],
      "source": [
        "for i in range(0,26):\n",
        "  mapping_dict[10+i] = chr(65+i)"
      ]
    },
    {
      "cell_type": "markdown",
      "source": [
        "Now, a new value pair in the dictionary is added."
      ],
      "metadata": {
        "id": "sQWWQ6OxXIrc"
      }
    },
    {
      "cell_type": "code",
      "execution_count": null,
      "metadata": {
        "colab": {
          "base_uri": "https://localhost:8080/"
        },
        "id": "-8dbgrxai7e5",
        "outputId": "ac4c07bf-7615-4e5e-9a9d-4ace8d5074d3"
      },
      "outputs": [
        {
          "output_type": "execute_result",
          "data": {
            "text/plain": [
              "{0: '0',\n",
              " 1: '1',\n",
              " 2: '2',\n",
              " 3: '3',\n",
              " 4: '4',\n",
              " 5: '5',\n",
              " 6: '6',\n",
              " 7: '7',\n",
              " 8: '8',\n",
              " 9: '9',\n",
              " 10: 'A',\n",
              " 11: 'B',\n",
              " 12: 'C',\n",
              " 13: 'D',\n",
              " 14: 'E',\n",
              " 15: 'F',\n",
              " 16: 'G',\n",
              " 17: 'H',\n",
              " 18: 'I',\n",
              " 19: 'J',\n",
              " 20: 'K',\n",
              " 21: 'L',\n",
              " 22: 'M',\n",
              " 23: 'N',\n",
              " 24: 'O',\n",
              " 25: 'P',\n",
              " 26: 'Q',\n",
              " 27: 'R',\n",
              " 28: 'S',\n",
              " 29: 'T',\n",
              " 30: 'U',\n",
              " 31: 'V',\n",
              " 32: 'W',\n",
              " 33: 'X',\n",
              " 34: 'Y',\n",
              " 35: 'Z'}"
            ]
          },
          "metadata": {},
          "execution_count": 8
        }
      ],
      "source": [
        "mapping_dict"
      ]
    },
    {
      "cell_type": "markdown",
      "source": [
        "Took a random sample size.(We used 5000000). This will be the number of strings generated in the list. And an empty list is generated 'random_numbers' which shows the generated string. Now ,a list of string is generated for randomly selecting values from the string.\n",
        "\n",
        "A loop will start that will iterate sample_size times,generating a new string in each iteration.An empty string is generated called blank_str. blank_str is used for bar chart.\n",
        "\n",
        "Here, a random integer is generated between 0 and 35.blank_str=blank_str + mapping_dict.[random_digit]:It appends the character corresponding to the randomly generated index(random_digit) from mappong_dict to the blank_str.Here the list ends creating a list of 5000000 strings."
      ],
      "metadata": {
        "id": "ocY_cGjSZZos"
      }
    },
    {
      "cell_type": "markdown",
      "source": [
        "Now a loop will start that will run 8 times.A coin toss will be done which will generate a random integer (either 0,1) using random_randint(0,1). If a coin toss generates 1 i.e, True then another value is generated between(0,35).Now the variable which is randomly generated will assign to the blank_str. Furthur, if the coin toss is not the one then the loop will break using break statement."
      ],
      "metadata": {
        "id": "am-25Oy6aUfm"
      }
    },
    {
      "cell_type": "code",
      "execution_count": null,
      "metadata": {
        "id": "6PSOs_PfjJ4I"
      },
      "outputs": [],
      "source": [
        "sample_size = 5000000\n",
        "\n",
        "random_numbers = list()\n",
        "\n",
        "for i in range(0,sample_size):\n",
        "\n",
        "  blank_str = str()\n",
        "\n",
        "  random_digit = random.randint(0,35)\n",
        "  blank_str = blank_str + mapping_dict[random_digit]\n",
        "\n",
        "  random_digit = random.randint(0,35)\n",
        "  blank_str = blank_str + mapping_dict[random_digit]\n",
        "\n",
        "  for i in range(0,8):\n",
        "    coin_toss = random.randint(0,1)\n",
        "\n",
        "    if coin_toss == 1:\n",
        "      random_digit = random.randint(0,35)\n",
        "      blank_str = blank_str + mapping_dict[random_digit]\n",
        "\n",
        "    else:\n",
        "      break\n",
        "\n",
        "  random_numbers.append(blank_str)"
      ]
    },
    {
      "cell_type": "markdown",
      "source": [
        "create a new dictonary called reverse_mapping_dict by reversing the key-value paires for mapping_dict dictonary.Reversed character mappings to their original numeric values from the mapping_dict dictionary are essentially included in reverse_mapping_dict."
      ],
      "metadata": {
        "id": "0uYF1XumZ4bN"
      }
    },
    {
      "cell_type": "code",
      "execution_count": null,
      "metadata": {
        "id": "BMoYPNcCjQB0"
      },
      "outputs": [],
      "source": [
        "reverse_mapping_dict = dict()\n",
        "\n",
        "for k in mapping_dict.keys():\n",
        "  reverse_mapping_dict[mapping_dict[k]] = k"
      ]
    },
    {
      "cell_type": "markdown",
      "source": [
        "create an empty dictionary is called base_frequency.Iterate over random_numbers: What it does for each blank_str in random_numbers is as follows:highest_digit = max(blank_str): Returns the character in the alphanumeric       string that is highest in terms of its Unicode value.\n",
        "Reverse mapping dict[highest digit] + 1 = highest base The base is represented by increasing the relevant numeric value of the topmost character by 1 after retrieving it using the reverse_mapping_dict. The characters in random_numbers are assumed to be mapped to numerical bases in this case.\n",
        "Refresh base_frequency: It determines if base_frequency already has the highest_base as a key. In such case, its value is increased by the proportion 1/sample_size. If not, 1/sample_size is used to initialize the highest_base key in base_frequency.The frequencies of the various numeric bases deduced from the alphanumeric strings are ultimately stored in base_frequency."
      ],
      "metadata": {
        "id": "nb2052ilaIZj"
      }
    },
    {
      "cell_type": "code",
      "execution_count": null,
      "metadata": {
        "id": "XZjDKnOTjRNm"
      },
      "outputs": [],
      "source": [
        "base_frequency = dict()\n",
        "\n",
        "for blank_str in random_numbers:\n",
        "  highest_digit = max(blank_str)\n",
        "  highest_base = reverse_mapping_dict[highest_digit] + 1\n",
        "\n",
        "  if highest_base in base_frequency.keys():\n",
        "    base_frequency[highest_base] += (1/sample_size)\n",
        "  else:\n",
        "    base_frequency[highest_base] = (1/sample_size)"
      ]
    },
    {
      "cell_type": "markdown",
      "source": [
        "Now, mataplotlib library is used to create a bar plot.\n",
        "\n",
        "A bar chart is created based on the data in the base_frequency dictionary. where the x-axis shows the keys of(highest bases) and the y axis shows the values(frequencies) in the dictionary.\n",
        "\n",
        "---\n",
        "\n"
      ],
      "metadata": {
        "id": "qaC4X7pKabNy"
      }
    },
    {
      "cell_type": "code",
      "execution_count": null,
      "metadata": {
        "colab": {
          "base_uri": "https://localhost:8080/",
          "height": 447
        },
        "id": "nbFtkOe1jZxd",
        "outputId": "e7d5ec6f-cb14-4e94-a8e8-167843fabc03"
      },
      "outputs": [
        {
          "output_type": "execute_result",
          "data": {
            "text/plain": [
              "<BarContainer object of 36 artists>"
            ]
          },
          "metadata": {},
          "execution_count": 13
        },
        {
          "output_type": "display_data",
          "data": {
            "text/plain": [
              "<Figure size 640x480 with 1 Axes>"
            ],
            "image/png": "[encoded data removed]"
          },
          "metadata": {}
        }
      ],
      "source": [
        "plt.bar(x=base_frequency.keys(),height=base_frequency.values())"
      ]
    },
    {
      "cell_type": "markdown",
      "source": [
        "Hence,here is the bar chart representing the frequency distribution of the highest bases in the sampled strings."
      ],
      "metadata": {
        "id": "rW05B_K3UA4T"
      }
    }
  ],
  "metadata": {
    "colab": {
      "provenance": []
    },
    "kernelspec": {
      "display_name": "Python 3",
      "name": "python3"
    },
    "language_info": {
      "name": "python"
    }
  },
  "nbformat": 4,
  "nbformat_minor": 0
}